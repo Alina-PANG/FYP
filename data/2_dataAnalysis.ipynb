{
 "cells": [
  {
   "cell_type": "code",
   "execution_count": 4,
   "metadata": {},
   "outputs": [],
   "source": [
    "import pymysql\n",
    "import pandas as pd\n",
    "import numpy\n",
    "import matplotlib.pyplot as plt"
   ]
  },
  {
   "cell_type": "code",
   "execution_count": 6,
   "metadata": {},
   "outputs": [
    {
     "name": "stdout",
     "output_type": "stream",
     "text": [
      "input file number: 1\n",
      "matrix number: 0\n",
      "number of iterations: 5\n",
      "0.2782748624327169 0.055659410787296394\n",
      "0.3582559969303299 0.064195190244739\n",
      "0.40837065724105714 0.07344224028959843\n",
      "0.4580641527883861 0.07427559460794222\n",
      "0.513602003815066 0.07240731239106372\n"
     ]
    }
   ],
   "source": [
    "db = pymysql.connect(\"localhost\", \"root\", \"19980312\", \"hyper_simulation\")\n",
    "cursor = db.cursor()\n",
    "inputFile = input(\"input file number: \")\n",
    "matrixNum = input(\"matrix number: \")\n",
    "iterationNum = int(input(\"number of iterations: \"))\n",
    "\n",
    "meanArr = []\n",
    "stdArr = []\n",
    "\n",
    "# for t in range(1, 2):\n",
    "for i in range(0, iterationNum):\n",
    "    cursor.execute(\"SELECT fitness from fitness \" +\n",
    "                   \"where iteration=\" + str(i) +\n",
    "#                        \" and times=\" + str(t) +\n",
    "                   \" and firmId!=\" + str(-1) +\n",
    "                   \" and inputFile='in\" + inputFile + \".conf'\" +\n",
    "                   \" and matrix='matrix\"+matrixNum+\"'\")\n",
    "    row = numpy.array(cursor.fetchall())\n",
    "    mean = numpy.mean(row)\n",
    "    std = numpy.std(row)\n",
    "    meanArr.append(mean)\n",
    "    stdArr.append(std)\n",
    "    print(mean, std)\n",
    "    \n",
    "result = {'iteration': range(0, iterationNum),\n",
    "          'fitness': meanArr,\n",
    "          'errorBar': stdArr}\n",
    "df = pd.DataFrame(result)\n",
    "db.close()\n"
   ]
  },
  {
   "cell_type": "code",
   "execution_count": 27,
   "metadata": {},
   "outputs": [
    {
     "data": {
      "image/png": "[encoded data removed]",
      "text/plain": [
       "<Figure size 432x288 with 1 Axes>"
      ]
     },
     "metadata": {
      "needs_background": "light"
     },
     "output_type": "display_data"
    }
   ],
   "source": [
    "plt.errorbar(df.iteration, df.fitness, yerr=df.errorBar,uplims=True, lolims=True)\n",
    "plt.show()"
   ]
  },
  {
   "cell_type": "code",
   "execution_count": 28,
   "metadata": {},
   "outputs": [
    {
     "name": "stdout",
     "output_type": "stream",
     "text": [
      "input file number: 1\n",
      "matrix number: 0\n",
      "{0: 22, 3: 6, 2: 28, 1: 24}\n"
     ]
    }
   ],
   "source": [
    "import matplotlib.pyplot as plt\n",
    "import scipy.stats\n",
    "import numpy as np\n",
    "import pymysql\n",
    "import pandas as pd\n",
    "\n",
    "db = pymysql.connect(\"localhost\", \"root\", \"19980312\", \"hyper_simulation\")\n",
    "cursor = db.cursor()\n",
    "inputFile = input(\"input file number: \")\n",
    "matrixNum = input(\"matrix number: \")\n",
    "\n",
    "meanArr = []\n",
    "stdArr = []\n",
    "collect = [{}, {}, {}, {}, {}]\n",
    "\n",
    "countArr = [\"Exp\", \"Add\", \"Drop\", \"Borrow\", \"Switch\"]\n",
    "for j in range(0, 5):\n",
    "    cursor.execute(\"SELECT count\"+countArr[j]+\" from count \" +\n",
    "                   \"where inputFile='in\" + inputFile + \".conf'\" +\n",
    "                   \" and matrix='matrix\"+matrixNum+\"'\")\n",
    "    tempRow = cursor.fetchall()\n",
    "    row = numpy.array(tempRow)\n",
    "    mean = numpy.mean(row)\n",
    "    std = numpy.std(row)\n",
    "    meanArr.append(mean)\n",
    "    stdArr.append(std)\n",
    "    for r in tempRow:\n",
    "        k = r[0]\n",
    "        if k in collect[j].keys():\n",
    "            collect[j][k] = collect[j][k] + 1\n",
    "        else:\n",
    "            collect[j][k] = 1\n",
    "    \n",
    "result = {'avg': meanArr,\n",
    "          'std': stdArr}\n",
    "df = pd.DataFrame(result)\n",
    "print(df)\n",
    "db.close()\n",
    "\n",
    "fig, axs = plt.subplots(1, 5, figsize=(15, 3), sharey=True)\n",
    "\n",
    "for j in range(0, 5):\n",
    "    x,y = [],[]\n",
    "    for k in sorted(collect[j].keys()):\n",
    "        x.append(k)\n",
    "        y.append(collect[j][k])\n",
    "    axs[j].fill_between(x, 0, y)\n",
    "    axs[j].plot(x,y)\n",
    "    \n",
    "plt.show()"
   ]
  },
  {
   "cell_type": "code",
   "execution_count": 16,
   "metadata": {},
   "outputs": [
    {
     "name": "stdout",
     "output_type": "stream",
     "text": [
      "input file number: 2\n",
      "matrix number: 0\n",
      "     avg       std\n",
      "0  1.650  0.963068\n",
      "1  4.100  0.860233\n",
      "2  0.000  0.000000\n",
      "3  0.875  0.780625\n",
      "4  0.175  0.379967\n",
      "[0, 0, 0, 0, 0]\n",
      "[8, 28, 32, 8, 4]\n"
     ]
    },
    {
     "ename": "ValueError",
     "evalue": "shape mismatch: objects cannot be broadcast to a single shape",
     "traceback": [
      "\u001b[0;31m---------------------------------------------------------------------------\u001b[0m",
      "\u001b[0;31mValueError\u001b[0m                                Traceback (most recent call last)",
      "\u001b[0;32m<ipython-input-16-edc4342c05dc>\u001b[0m in \u001b[0;36m<module>\u001b[0;34m()\u001b[0m\n\u001b[1;32m     48\u001b[0m         \u001b[0my\u001b[0m\u001b[0;34m.\u001b[0m\u001b[0mappend\u001b[0m\u001b[0;34m(\u001b[0m\u001b[0mcollect\u001b[0m\u001b[0;34m[\u001b[0m\u001b[0mj\u001b[0m\u001b[0;34m]\u001b[0m\u001b[0;34m[\u001b[0m\u001b[0mk\u001b[0m\u001b[0;34m]\u001b[0m\u001b[0;34m)\u001b[0m\u001b[0;34m\u001b[0m\u001b[0m\n\u001b[1;32m     49\u001b[0m     \u001b[0mprint\u001b[0m\u001b[0;34m(\u001b[0m\u001b[0mpreviousY\u001b[0m\u001b[0;34m)\u001b[0m\u001b[0;34m\u001b[0m\u001b[0m\n\u001b[0;32m---> 50\u001b[0;31m     \u001b[0mplt\u001b[0m\u001b[0;34m.\u001b[0m\u001b[0mbar\u001b[0m\u001b[0;34m(\u001b[0m\u001b[0mx\u001b[0m\u001b[0;34m,\u001b[0m \u001b[0my\u001b[0m\u001b[0;34m,\u001b[0m \u001b[0mwidth\u001b[0m\u001b[0;34m,\u001b[0m \u001b[0mbottom\u001b[0m\u001b[0;34m=\u001b[0m\u001b[0mpreviousY\u001b[0m\u001b[0;34m,\u001b[0m \u001b[0mlabel\u001b[0m\u001b[0;34m=\u001b[0m\u001b[0mcountArr\u001b[0m\u001b[0;34m[\u001b[0m\u001b[0mj\u001b[0m\u001b[0;34m]\u001b[0m\u001b[0;34m)\u001b[0m\u001b[0;34m\u001b[0m\u001b[0m\n\u001b[0m\u001b[1;32m     51\u001b[0m     \u001b[0mpreviousY\u001b[0m \u001b[0;34m=\u001b[0m \u001b[0my\u001b[0m\u001b[0;34m\u001b[0m\u001b[0m\n\u001b[1;32m     52\u001b[0m \u001b[0;34m\u001b[0m\u001b[0m\n",
      "\u001b[0;32m/Library/Frameworks/Python.framework/Versions/3.7/lib/python3.7/site-packages/matplotlib/pyplot.py\u001b[0m in \u001b[0;36mbar\u001b[0;34m(x, height, width, bottom, align, data, **kwargs)\u001b[0m\n\u001b[1;32m   2432\u001b[0m     return gca().bar(\n\u001b[1;32m   2433\u001b[0m         \u001b[0mx\u001b[0m\u001b[0;34m,\u001b[0m \u001b[0mheight\u001b[0m\u001b[0;34m,\u001b[0m \u001b[0mwidth\u001b[0m\u001b[0;34m=\u001b[0m\u001b[0mwidth\u001b[0m\u001b[0;34m,\u001b[0m \u001b[0mbottom\u001b[0m\u001b[0;34m=\u001b[0m\u001b[0mbottom\u001b[0m\u001b[0;34m,\u001b[0m \u001b[0malign\u001b[0m\u001b[0;34m=\u001b[0m\u001b[0malign\u001b[0m\u001b[0;34m,\u001b[0m\u001b[0;34m\u001b[0m\u001b[0m\n\u001b[0;32m-> 2434\u001b[0;31m         **({\"data\": data} if data is not None else {}), **kwargs)\n\u001b[0m\u001b[1;32m   2435\u001b[0m \u001b[0;34m\u001b[0m\u001b[0m\n\u001b[1;32m   2436\u001b[0m \u001b[0;34m\u001b[0m\u001b[0m\n",
      "\u001b[0;32m/Library/Frameworks/Python.framework/Versions/3.7/lib/python3.7/site-packages/matplotlib/__init__.py\u001b[0m in \u001b[0;36minner\u001b[0;34m(ax, data, *args, **kwargs)\u001b[0m\n\u001b[1;32m   1597\u001b[0m     \u001b[0;32mdef\u001b[0m \u001b[0minner\u001b[0m\u001b[0;34m(\u001b[0m\u001b[0max\u001b[0m\u001b[0;34m,\u001b[0m \u001b[0;34m*\u001b[0m\u001b[0margs\u001b[0m\u001b[0;34m,\u001b[0m \u001b[0mdata\u001b[0m\u001b[0;34m=\u001b[0m\u001b[0;32mNone\u001b[0m\u001b[0;34m,\u001b[0m \u001b[0;34m**\u001b[0m\u001b[0mkwargs\u001b[0m\u001b[0;34m)\u001b[0m\u001b[0;34m:\u001b[0m\u001b[0;34m\u001b[0m\u001b[0m\n\u001b[1;32m   1598\u001b[0m         \u001b[0;32mif\u001b[0m \u001b[0mdata\u001b[0m \u001b[0;32mis\u001b[0m \u001b[0;32mNone\u001b[0m\u001b[0;34m:\u001b[0m\u001b[0;34m\u001b[0m\u001b[0m\n\u001b[0;32m-> 1599\u001b[0;31m             \u001b[0;32mreturn\u001b[0m \u001b[0mfunc\u001b[0m\u001b[0;34m(\u001b[0m\u001b[0max\u001b[0m\u001b[0;34m,\u001b[0m \u001b[0;34m*\u001b[0m\u001b[0mmap\u001b[0m\u001b[0;34m(\u001b[0m\u001b[0msanitize_sequence\u001b[0m\u001b[0;34m,\u001b[0m \u001b[0margs\u001b[0m\u001b[0;34m)\u001b[0m\u001b[0;34m,\u001b[0m \u001b[0;34m**\u001b[0m\u001b[0mkwargs\u001b[0m\u001b[0;34m)\u001b[0m\u001b[0;34m\u001b[0m\u001b[0m\n\u001b[0m\u001b[1;32m   1600\u001b[0m \u001b[0;34m\u001b[0m\u001b[0m\n\u001b[1;32m   1601\u001b[0m         \u001b[0mbound\u001b[0m \u001b[0;34m=\u001b[0m \u001b[0mnew_sig\u001b[0m\u001b[0;34m.\u001b[0m\u001b[0mbind\u001b[0m\u001b[0;34m(\u001b[0m\u001b[0max\u001b[0m\u001b[0;34m,\u001b[0m \u001b[0;34m*\u001b[0m\u001b[0margs\u001b[0m\u001b[0;34m,\u001b[0m \u001b[0;34m**\u001b[0m\u001b[0mkwargs\u001b[0m\u001b[0;34m)\u001b[0m\u001b[0;34m\u001b[0m\u001b[0m\n",
      "\u001b[0;32m/Library/Frameworks/Python.framework/Versions/3.7/lib/python3.7/site-packages/matplotlib/axes/_axes.py\u001b[0m in \u001b[0;36mbar\u001b[0;34m(self, x, height, width, bottom, align, **kwargs)\u001b[0m\n\u001b[1;32m   2372\u001b[0m         x, height, width, y, linewidth = np.broadcast_arrays(\n\u001b[1;32m   2373\u001b[0m             \u001b[0;31m# Make args iterable too.\u001b[0m\u001b[0;34m\u001b[0m\u001b[0;34m\u001b[0m\u001b[0m\n\u001b[0;32m-> 2374\u001b[0;31m             np.atleast_1d(x), height, width, y, linewidth)\n\u001b[0m\u001b[1;32m   2375\u001b[0m \u001b[0;34m\u001b[0m\u001b[0m\n\u001b[1;32m   2376\u001b[0m         \u001b[0;31m# Now that units have been converted, set the tick locations.\u001b[0m\u001b[0;34m\u001b[0m\u001b[0;34m\u001b[0m\u001b[0m\n",
      "\u001b[0;32m/Library/Frameworks/Python.framework/Versions/3.7/lib/python3.7/site-packages/numpy/lib/stride_tricks.py\u001b[0m in \u001b[0;36mbroadcast_arrays\u001b[0;34m(*args, **kwargs)\u001b[0m\n\u001b[1;32m    257\u001b[0m     \u001b[0margs\u001b[0m \u001b[0;34m=\u001b[0m \u001b[0;34m[\u001b[0m\u001b[0mnp\u001b[0m\u001b[0;34m.\u001b[0m\u001b[0marray\u001b[0m\u001b[0;34m(\u001b[0m\u001b[0m_m\u001b[0m\u001b[0;34m,\u001b[0m \u001b[0mcopy\u001b[0m\u001b[0;34m=\u001b[0m\u001b[0;32mFalse\u001b[0m\u001b[0;34m,\u001b[0m \u001b[0msubok\u001b[0m\u001b[0;34m=\u001b[0m\u001b[0msubok\u001b[0m\u001b[0;34m)\u001b[0m \u001b[0;32mfor\u001b[0m \u001b[0m_m\u001b[0m \u001b[0;32min\u001b[0m \u001b[0margs\u001b[0m\u001b[0;34m]\u001b[0m\u001b[0;34m\u001b[0m\u001b[0m\n\u001b[1;32m    258\u001b[0m \u001b[0;34m\u001b[0m\u001b[0m\n\u001b[0;32m--> 259\u001b[0;31m     \u001b[0mshape\u001b[0m \u001b[0;34m=\u001b[0m \u001b[0m_broadcast_shape\u001b[0m\u001b[0;34m(\u001b[0m\u001b[0;34m*\u001b[0m\u001b[0margs\u001b[0m\u001b[0;34m)\u001b[0m\u001b[0;34m\u001b[0m\u001b[0m\n\u001b[0m\u001b[1;32m    260\u001b[0m \u001b[0;34m\u001b[0m\u001b[0m\n\u001b[1;32m    261\u001b[0m     \u001b[0;32mif\u001b[0m \u001b[0mall\u001b[0m\u001b[0;34m(\u001b[0m\u001b[0marray\u001b[0m\u001b[0;34m.\u001b[0m\u001b[0mshape\u001b[0m \u001b[0;34m==\u001b[0m \u001b[0mshape\u001b[0m \u001b[0;32mfor\u001b[0m \u001b[0marray\u001b[0m \u001b[0;32min\u001b[0m \u001b[0margs\u001b[0m\u001b[0;34m)\u001b[0m\u001b[0;34m:\u001b[0m\u001b[0;34m\u001b[0m\u001b[0m\n",
      "\u001b[0;32m/Library/Frameworks/Python.framework/Versions/3.7/lib/python3.7/site-packages/numpy/lib/stride_tricks.py\u001b[0m in \u001b[0;36m_broadcast_shape\u001b[0;34m(*args)\u001b[0m\n\u001b[1;32m    191\u001b[0m     \u001b[0;31m# use the old-iterator because np.nditer does not handle size 0 arrays\u001b[0m\u001b[0;34m\u001b[0m\u001b[0;34m\u001b[0m\u001b[0m\n\u001b[1;32m    192\u001b[0m     \u001b[0;31m# consistently\u001b[0m\u001b[0;34m\u001b[0m\u001b[0;34m\u001b[0m\u001b[0m\n\u001b[0;32m--> 193\u001b[0;31m     \u001b[0mb\u001b[0m \u001b[0;34m=\u001b[0m \u001b[0mnp\u001b[0m\u001b[0;34m.\u001b[0m\u001b[0mbroadcast\u001b[0m\u001b[0;34m(\u001b[0m\u001b[0;34m*\u001b[0m\u001b[0margs\u001b[0m\u001b[0;34m[\u001b[0m\u001b[0;34m:\u001b[0m\u001b[0;36m32\u001b[0m\u001b[0;34m]\u001b[0m\u001b[0;34m)\u001b[0m\u001b[0;34m\u001b[0m\u001b[0m\n\u001b[0m\u001b[1;32m    194\u001b[0m     \u001b[0;31m# unfortunately, it cannot handle 32 or more arguments directly\u001b[0m\u001b[0;34m\u001b[0m\u001b[0;34m\u001b[0m\u001b[0m\n\u001b[1;32m    195\u001b[0m     \u001b[0;32mfor\u001b[0m \u001b[0mpos\u001b[0m \u001b[0;32min\u001b[0m \u001b[0mrange\u001b[0m\u001b[0;34m(\u001b[0m\u001b[0;36m32\u001b[0m\u001b[0;34m,\u001b[0m \u001b[0mlen\u001b[0m\u001b[0;34m(\u001b[0m\u001b[0margs\u001b[0m\u001b[0;34m)\u001b[0m\u001b[0;34m,\u001b[0m \u001b[0;36m31\u001b[0m\u001b[0;34m)\u001b[0m\u001b[0;34m:\u001b[0m\u001b[0;34m\u001b[0m\u001b[0m\n",
      "\u001b[0;31mValueError\u001b[0m: shape mismatch: objects cannot be broadcast to a single shape"
     ],
     "output_type": "error"
    },
    {
     "data": {
      "image/png": "[encoded data removed]",
      "text/plain": [
       "<Figure size 432x288 with 1 Axes>"
      ]
     },
     "metadata": {
      "needs_background": "light"
     },
     "output_type": "display_data"
    }
   ],
   "source": [
    "import matplotlib.pyplot as plt\n",
    "import scipy.stats\n",
    "import numpy as np\n",
    "import pymysql\n",
    "import pandas as pd\n",
    "import copy\n",
    "\n",
    "db = pymysql.connect(\"localhost\", \"root\", \"19980312\", \"hyper_simulation\")\n",
    "cursor = db.cursor()\n",
    "inputFile = input(\"input file number: \")\n",
    "matrixNum = input(\"matrix number: \")\n",
    "\n",
    "meanArr = []\n",
    "stdArr = []\n",
    "collect = [{}, {}, {}, {}, {}]\n",
    "\n",
    "countArr = [\"Exp\", \"Add\", \"Drop\", \"Borrow\", \"Switch\"]\n",
    "for j in range(0, 5):\n",
    "    cursor.execute(\"SELECT count\"+countArr[j]+\" from count \" +\n",
    "                   \"where inputFile='in\" + inputFile + \".conf'\" +\n",
    "                   \" and matrix='matrix\"+matrixNum+\"'\")\n",
    "    tempRow = cursor.fetchall()\n",
    "    row = numpy.array(tempRow)\n",
    "    mean = numpy.mean(row)\n",
    "    std = numpy.std(row)\n",
    "    meanArr.append(mean)\n",
    "    stdArr.append(std)\n",
    "    for r in tempRow:\n",
    "        k = r[0]\n",
    "        if k in collect[j].keys():\n",
    "            collect[j][k] = collect[j][k] + 1\n",
    "        else:\n",
    "            collect[j][k] = 1\n",
    "    \n",
    "result = {'avg': meanArr,\n",
    "          'std': stdArr}\n",
    "df = pd.DataFrame(result)\n",
    "print(df)\n",
    "db.close()\n",
    "\n",
    "width=0.35\n",
    "previousY = [0,0,0,0,0]\n",
    "\n",
    "for j in range(0, 5):\n",
    "    x,y = [],[]\n",
    "    for k in sorted(collect[j].keys()):\n",
    "        x.append(k)\n",
    "        y.append(collect[j][k])\n",
    "    plt.bar(x, y, width, bottom=previousY, label=countArr[j])\n",
    "    previousY = y\n",
    "        \n",
    "plt.show()"
   ]
  },
  {
   "cell_type": "code",
   "execution_count": 52,
   "metadata": {},
   "outputs": [
    {
     "name": "stdout",
     "output_type": "stream",
     "text": [
      "     times  firmId  iteration  firmRank\n",
      "0        1      19          0         1\n",
      "1        1       9          0         2\n",
      "2        1      11          0         3\n",
      "3        1      12          0         4\n",
      "4        1       2          0         5\n",
      "..     ...     ...        ...       ...\n",
      "395      2      14          4        16\n",
      "396      2       8          4        17\n",
      "397      2       4          4        18\n",
      "398      2       1          4        19\n",
      "399      2      19          4        20\n",
      "\n",
      "[400 rows x 4 columns]\n",
      "     times  firmId  iteration  firmRank\n",
      "0        1       6          0         1\n",
      "1        1       5          0         2\n",
      "2        1       2          0         3\n",
      "3        1      15          0         4\n",
      "4        1      14          0         5\n",
      "..     ...     ...        ...       ...\n",
      "395      2       1          4        16\n",
      "396      2      18          4        17\n",
      "397      2       7          4        18\n",
      "398      2      11          4        19\n",
      "399      2      14          4        20\n",
      "\n",
      "[400 rows x 4 columns]\n"
     ]
    }
   ],
   "source": [
    "import matplotlib.pyplot as plt\n",
    "import numpy \n",
    "import pymysql\n",
    "import pandas as pd\n",
    "\n",
    "inputFile = ['1', '2']\n",
    "firms = range(0, 20)\n",
    "iterationNum = 5\n",
    "matrixNum = '0'\n",
    "db = pymysql.connect(\"localhost\", \"root\", \"19980312\", \"hyper_simulation\")\n",
    "cursor = db.cursor()\n",
    "for f in inputFile:\n",
    "    meanArr = []\n",
    "    stdArr = []\n",
    "    cursor.execute(\"SELECT times, firmId, iteration, firmRank from fitness \" +\n",
    "                   \"where firmId!=-1\" +\n",
    "                   \" and inputFile='in\" + f + \".conf'\" +\n",
    "                   \" and matrix='matrix\" + matrixNum + \"'\")\n",
    "    df = pd.DataFrame(cursor.fetchall(),columns=['times', 'firmId','iteration','firmRank'])\n",
    "    print(df)\n",
    "#     for firm in firms:\n",
    "#         print('input='+f,'firm='+str(firm))\n",
    "#         firmDf = df.loc[(df.firmId == firm) & (df.iteration == 0)].sort_values('times').drop_duplicates() \n",
    "#         tempMeanArr = []\n",
    "#         tempStdArr = []\n",
    "#         previousRow = firmDf.firmRank.to_numpy()\n",
    "#         for i in range(1, iterationNum):\n",
    "#             firmDf = df.loc[(df.firmId == firm) & (df.iteration == i)].sort_values('times').drop_duplicates() \n",
    "#             curRow = firmDf.firmRank.to_numpy()\n",
    "#             minusResultRow = numpy.subtract(curRow, previousRow)\n",
    "#             mean = numpy.mean(minusResultRow)\n",
    "#             std = numpy.std(minusResultRow)\n",
    "#             tempMeanArr.append(mean)\n",
    "#             tempStdArr.append(std)\n",
    "#             previousRow = curRow\n",
    "#         meanArr.append(tempMeanArr)\n",
    "#         stdArr.append(tempStdArr)\n",
    "#     meanArr = np.mean(np.array(meanArr), axis=0)\n",
    "#     stdArr = np.std(np.array(stdArr), axis=0)\n",
    "#     line = plt.errorbar(range(0, iterationNum - 1), meanArr, uplims=True, lolims=True,\n",
    "#                         label='input=' + f)  # yerr=stdArr,\n",
    "#     plt.annotate(\"input=\" + f, xy=(6, meanArr[0]), xytext=(6, 0), color=line[0].get_color(),\n",
    "#                  textcoords=\"offset points\", va=\"center\")\n",
    "#     # plt.annotate(\"iteration=\" + str(i), xy=(0, meanArr[-1]), xytext=(6, 0), color=line[0].get_color(),\n",
    "#     #              textcoords=\"offset points\", va=\"center\")\n",
    "\n",
    "# plt.legend(prop={'size': 10})\n",
    "# plt.show()"
   ]
  },
  {
   "cell_type": "code",
   "execution_count": 33,
   "metadata": {},
   "outputs": [
    {
     "name": "stdout",
     "output_type": "stream",
     "text": [
      "[[1.  2.5]\n",
      " [3.2 4. ]]\n",
      "[2.1  3.25]\n"
     ]
    }
   ],
   "source": [
    "a = np.array([[1, 2.5], [3.2, 4]])\n",
    "print(a)\n",
    "print(np.mean(a, axis=0))"
   ]
  },
  {
   "cell_type": "code",
   "execution_count": null,
   "metadata": {},
   "outputs": [],
   "source": []
  }
 ],
 "metadata": {
  "kernelspec": {
   "display_name": "Python 3",
   "language": "python",
   "name": "python3"
  },
  "language_info": {
   "codemirror_mode": {
    "name": "ipython",
    "version": 3
   },
   "file_extension": ".py",
   "mimetype": "text/x-python",
   "name": "python",
   "nbconvert_exporter": "python",
   "pygments_lexer": "ipython3",
   "version": "3.7.0"
  }
 },
 "nbformat": 4,
 "nbformat_minor": 2
}
