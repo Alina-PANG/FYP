{
 "cells": [
  {
   "cell_type": "code",
   "execution_count": 6,
   "metadata": {},
   "outputs": [],
   "source": [
    "import pymysql\n",
    "import pandas as pd\n",
    "import numpy\n",
    "import matplotlib"
   ]
  },
  {
   "cell_type": "code",
   "execution_count": 12,
   "metadata": {},
   "outputs": [
    {
     "name": "stdout",
     "output_type": "stream",
     "text": [
      "80\n"
     ]
    }
   ],
   "source": [
    "db = pymysql.connect(\"localhost\", \"root\", \"19980312\", \"hyper_simulation\")\n",
    "    cursor = db.cursor()\n",
    "    inputFile = input(\"input file number: \")\n",
    "    matrixNum = input(\"matrix number: \")\n",
    "\n",
    "    for t in range(1, 2):\n",
    "        for i in range(0, 4):\n",
    "            cursor.execute(\"SELECT firmId, fitness from fitness \" +\n",
    "                           \"where iteration=\" + str(i) +\n",
    "                           \" and times=\" + str(t) +\n",
    "                           \" and firmId!=\" + str(-1) +\n",
    "                           \" and inputFile='in\" + inputFile + \".conf'\" +\n",
    "                           \" and matrix='matrix\"+matrixNum+\"'\")\n",
    "            row = cursor.fetchall()\n",
    "            print(row)\n",
    "            break\n",
    "\n",
    "    db.close()"
   ]
  },
  {
   "cell_type": "code",
   "execution_count": null,
   "metadata": {},
   "outputs": [],
   "source": []
  }
 ],
 "metadata": {
  "kernelspec": {
   "display_name": "Python 3",
   "language": "python",
   "name": "python3"
  },
  "language_info": {
   "codemirror_mode": {
    "name": "ipython",
    "version": 3
   },
   "file_extension": ".py",
   "mimetype": "text/x-python",
   "name": "python",
   "nbconvert_exporter": "python",
   "pygments_lexer": "ipython3",
   "version": "3.7.0"
  }
 },
 "nbformat": 4,
 "nbformat_minor": 2
}
