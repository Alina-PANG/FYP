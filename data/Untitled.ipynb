{
 "cells": [
  {
   "cell_type": "code",
   "execution_count": 1,
   "metadata": {},
   "outputs": [],
   "source": [
    "dict = {\n",
    "    1:[0.5,0.01,2,2],\n",
    "    2:[0.5,0.01,3,3],\n",
    "    3:[0.5,0.01,4,4],\n",
    "    4:[0.5,0.01,5,5],\n",
    "    5:[0.5,0.01,2,5],\n",
    "    6:[0.75,0.01,2,2],\n",
    "    7:[0.75,0.01,3,3],\n",
    "    8:[0.75,0.01,4,4],\n",
    "    9:[0.75,0.01,5,5],\n",
    "    10:[0.75,0.01,2,5],\n",
    "    11:[1,0.01,2,2],\n",
    "    12:[1,0.01,3,3],\n",
    "    13:[1,0.01,4,4],\n",
    "    14:[1,0.01,5,5],\n",
    "    15:[1,0.01,2,5],\n",
    "    16:[0.5,0.25,2,2],\n",
    "    17:[0.5,0.25,3,3],\n",
    "    18:[0.5,0.25,4,4],\n",
    "    19:[0.5,0.25,5,5],\n",
    "    20:[0.5,0.25,2,5],\n",
    "    21:[0.75,0.25,2,2],\n",
    "    22:[0.75,0.25,3,3],\n",
    "    23:[0.75,0.25,4,4],\n",
    "    24:[0.75,0.25,5,5],\n",
    "    25:[0.75,0.25,2,5],\n",
    "    26:[1,0.25,2,2],\n",
    "    27:[1,0.25,3,3],\n",
    "    28:[1,0.25,4,4],\n",
    "    29:[1,0.25,5,5],\n",
    "    30:[1,0.25,2,5],\n",
    "    31:[0.5,0.5,2,2],\n",
    "    32:[0.5,0.5,3,3],\n",
    "    33:[0.5,0.5,4,4],\n",
    "    34:[0.5,0.5,5,5],\n",
    "    35:[0.5,0.5,2,5],\n",
    "    36:[0.75,0.5,2,2],\n",
    "    37:[0.75,0.5,3,3],\n",
    "    38:[0.75,0.5,4,4],\n",
    "    39:[0.75,0.5,5,5],\n",
    "    40:[0.75,0.5,2,5],\n",
    "    41:[1,0.5,2,2],\n",
    "    42:[1,0.5,3,3],\n",
    "    43:[1,0.5,4,4],\n",
    "    44:[1,0.5,5,5],\n",
    "    45:[1,0.5,2,5],\n",
    "}"
   ]
  },
  {
   "cell_type": "code",
   "execution_count": 3,
   "metadata": {},
   "outputs": [
    {
     "name": "stdout",
     "output_type": "stream",
     "text": [
      "[3]\n"
     ]
    }
   ],
   "source": [
    "import pandas as pd  \n",
    "import numpy as np  \n",
    "arr = ['a','apple','c','aadah','aewna']\n",
    "arr2 = [1,2,0.3,2,0.7]\n",
    "arr4 = [1,2,3,4,5]\n",
    "df_fit = pd.DataFrame(list(zip(arr, arr2,arr4)), columns=['input', 'matrix','test'])\n",
    "t = df_fit.loc[(df_fit['input'] == 'c') & (df_fit['matrix'] == 0.3)].test.to_numpy()\n",
    "print(t)"
   ]
  },
  {
   "cell_type": "code",
   "execution_count": 5,
   "metadata": {},
   "outputs": [
    {
     "name": "stdout",
     "output_type": "stream",
     "text": [
      "Intercept    14.952480\n",
      "B             0.401182\n",
      "C             0.000352\n",
      "dtype: float64\n",
      "                            OLS Regression Results                            \n",
      "==============================================================================\n",
      "Dep. Variable:                      A   R-squared:                       0.579\n",
      "Model:                            OLS   Adj. R-squared:                  0.158\n",
      "Method:                 Least Squares   F-statistic:                     1.375\n",
      "Date:                Thu, 05 Mar 2020   Prob (F-statistic):              0.421\n",
      "Time:                        20:45:59   Log-Likelihood:                -18.178\n",
      "No. Observations:                   5   AIC:                             42.36\n",
      "Df Residuals:                       2   BIC:                             41.19\n",
      "Df Model:                           2                                         \n",
      "Covariance Type:            nonrobust                                         \n",
      "==============================================================================\n",
      "                 coef    std err          t      P>|t|      [0.025      0.975]\n",
      "------------------------------------------------------------------------------\n",
      "Intercept     14.9525     17.764      0.842      0.489     -61.481      91.386\n",
      "B              0.4012      0.650      0.617      0.600      -2.394       3.197\n",
      "C              0.0004      0.001      0.650      0.583      -0.002       0.003\n",
      "==============================================================================\n",
      "Omnibus:                          nan   Durbin-Watson:                   1.061\n",
      "Prob(Omnibus):                    nan   Jarque-Bera (JB):                0.498\n",
      "Skew:                          -0.123   Prob(JB):                        0.780\n",
      "Kurtosis:                       1.474   Cond. No.                     5.21e+04\n",
      "==============================================================================\n",
      "\n",
      "Warnings:\n",
      "[1] Standard Errors assume that the covariance matrix of the errors is correctly specified.\n",
      "[2] The condition number is large, 5.21e+04. This might indicate that there are\n",
      "strong multicollinearity or other numerical problems.\n"
     ]
    },
    {
     "name": "stderr",
     "output_type": "stream",
     "text": [
      "/Library/Frameworks/Python.framework/Versions/3.7/lib/python3.7/site-packages/statsmodels/stats/stattools.py:71: ValueWarning: omni_normtest is not valid with less than 8 observations; 5 samples were given.\n",
      "  \"samples were given.\" % int(n), ValueWarning)\n"
     ]
    }
   ],
   "source": [
    "import pandas as pd\n",
    "import statsmodels.formula.api as sm\n",
    "df = pd.DataFrame({\"A\": [10,20,30,40,50], \"B\": [20, 30, 10, 40, 50], \"C\": [32, 234, 23, 23, 42523]})\n",
    "result = sm.ols(formula=\"A ~ B + C\", data=df).fit()\n",
    "print(result.params)\n",
    "print(result.summary())"
   ]
  },
  {
   "cell_type": "code",
   "execution_count": 6,
   "metadata": {},
   "outputs": [
    {
     "name": "stdout",
     "output_type": "stream",
     "text": [
      "[1, 2, 3]\n"
     ]
    }
   ],
   "source": [
    "c = [[1,2,3],[4,2,2]]\n",
    "a,b = c\n",
    "print(a)"
   ]
  },
  {
   "cell_type": "code",
   "execution_count": 7,
   "metadata": {},
   "outputs": [
    {
     "name": "stdout",
     "output_type": "stream",
     "text": [
      "3\n"
     ]
    }
   ],
   "source": [
    "a = int('3')\n",
    "print(a)"
   ]
  },
  {
   "cell_type": "code",
   "execution_count": 3,
   "metadata": {},
   "outputs": [
    {
     "name": "stdout",
     "output_type": "stream",
     "text": [
      "[[1, 2, 3, 4, 8]]\n"
     ]
    }
   ],
   "source": [
    "def getStats(a,b,c,d):\n",
    "    return (a,b,c,d)\n",
    "\n",
    "val = []\n",
    "val.append(list(getStats(1,2,3,4) + getStats(5,6,7,8)[3:]))\n",
    "# tempVal.append(getStats(5,6,7,8)[3:])\n",
    "# val  = []\n",
    "# val.append(tempVal)\n",
    "\n",
    "print(val)"
   ]
  },
  {
   "cell_type": "code",
   "execution_count": null,
   "metadata": {},
   "outputs": [],
   "source": []
  }
 ],
 "metadata": {
  "kernelspec": {
   "display_name": "Python 3",
   "language": "python",
   "name": "python3"
  },
  "language_info": {
   "codemirror_mode": {
    "name": "ipython",
    "version": 3
   },
   "file_extension": ".py",
   "mimetype": "text/x-python",
   "name": "python",
   "nbconvert_exporter": "python",
   "pygments_lexer": "ipython3",
   "version": "3.7.0"
  }
 },
 "nbformat": 4,
 "nbformat_minor": 2
}
